{
  "nbformat": 4,
  "nbformat_minor": 0,
  "metadata": {
    "colab": {
      "name": "Python_assignment_2",
      "provenance": [],
      "collapsed_sections": [],
      "authorship_tag": "ABX9TyPZVzJHTD5XNddlX1YkmuZu",
      "include_colab_link": true
    },
    "kernelspec": {
      "name": "python3",
      "display_name": "Python 3"
    },
    "language_info": {
      "name": "python"
    }
  },
  "cells": [
    {
      "cell_type": "markdown",
      "metadata": {
        "id": "view-in-github",
        "colab_type": "text"
      },
      "source": [
        "<a href=\"https://colab.research.google.com/github/harsh760/Assignments/blob/master/Python_assignment_2.ipynb\" target=\"_parent\"><img src=\"https://colab.research.google.com/assets/colab-badge.svg\" alt=\"Open In Colab\"/></a>"
      ]
    },
    {
      "cell_type": "markdown",
      "metadata": {
        "id": "MzQ-djWe0fbD"
      },
      "source": [
        "\n",
        "\n",
        ">#  **Assignment 2**\n",
        "\n",
        "**Name** : Harsh Agola \n",
        "\n",
        "**Roll no,** : AU1841106"
      ]
    },
    {
      "cell_type": "code",
      "metadata": {
        "id": "qAhCInQL1coU"
      },
      "source": [
        "#general imports\n",
        "\n",
        "import pandas as pd\n",
        "import numpy as np"
      ],
      "execution_count": 2,
      "outputs": []
    },
    {
      "cell_type": "code",
      "metadata": {
        "colab": {
          "base_uri": "https://localhost:8080/"
        },
        "id": "nZb5HQgp0XL7",
        "outputId": "4795347c-2db9-48d3-cf05-de80a93141a9"
      },
      "source": [
        "#answer1 :\n",
        "\n",
        "file_1 = open(\"DataFile1.txt\",\"r\")\n",
        "content = file_1.read()\n",
        "\n",
        "cnt_1 = 0\n",
        "cnt_0 = 0\n",
        "\n",
        "for i in content:\n",
        "  if i == \"1\":\n",
        "    cnt_1+=1\n",
        "  else:\n",
        "    cnt_0+=1\n",
        "\n",
        "print(f\"Total count for 1 in given string is {cnt_1}\")\n",
        "print(f\"Total count for 0 in given string is {cnt_0}\")\n",
        "\n",
        "file_1.close()"
      ],
      "execution_count": 9,
      "outputs": [
        {
          "output_type": "stream",
          "text": [
            "Total count for 1 in given string is 135\n",
            "Total count for 0 in given string is 185\n"
          ],
          "name": "stdout"
        }
      ]
    },
    {
      "cell_type": "code",
      "metadata": {
        "colab": {
          "base_uri": "https://localhost:8080/"
        },
        "id": "E98ps7612NuN",
        "outputId": "ca729595-ceaf-4394-ff8f-6189ad68df5a"
      },
      "source": [
        "#ans 2\n",
        "file_2 = open(\"DataFile2.txt\",'r')\n",
        "content = file_2.read()\n",
        "print(content) \n",
        "content = content.replace(\"#\",\"\")\n",
        "print(content)\n",
        "file_2.close()\n"
      ],
      "execution_count": 14,
      "outputs": [
        {
          "output_type": "stream",
          "text": [
            "# This is the sample comment. # Program is developed by K Patel. # Date: 04-Feb-2021 # Definition: Python string processing activities.>>> print (\"#Hello Python Practicals\") #Hello Python Practicals>>> 'Python Practicals'  # single quotes 'Python Practicals' >>> \"Python Practicals\"  # double quotes 'Python Practicals'. # Use \\' to print single quote >>> 'Python\\'s Practicals' \"Python's Practicals\" #Another way to print ‘ is use double quote\n",
            " This is the sample comment.  Program is developed by K Patel.  Date: 04-Feb-2021  Definition: Python string processing activities.>>> print (\"Hello Python Practicals\") Hello Python Practicals>>> 'Python Practicals'   single quotes 'Python Practicals' >>> \"Python Practicals\"   double quotes 'Python Practicals'.  Use \\' to print single quote >>> 'Python\\'s Practicals' \"Python's Practicals\" Another way to print ‘ is use double quote\n"
          ],
          "name": "stdout"
        }
      ]
    },
    {
      "cell_type": "code",
      "metadata": {
        "colab": {
          "base_uri": "https://localhost:8080/"
        },
        "id": "SJ8CEj5t3n8B",
        "outputId": "6dd9cd8e-cf74-4d23-d0b1-d2f0f46a2e0b"
      },
      "source": [
        "#ans 3\n",
        "file_3 = open(\"DataFile3.txt\",'r')\n",
        "content = file_3.read()\n",
        "print(content)\n",
        "print(f\"I is at location {content.find('I')} in the given file.\")\n",
        "file_3.close()"
      ],
      "execution_count": 20,
      "outputs": [
        {
          "output_type": "stream",
          "text": [
            "ABCDWERDFGTYHUJNMKLOPABCDWERDFGTYHUJNMKLOPABCDWERDFGTYHUJNMKLOPABCDWERDFGTYHUJNMKLOPABCDWERDFGTYHUJNMKLOPABCDWERDFGTYHUJNMKLOPABCDWERDFGTYHUJNMKLOPABCDWERDFGTYHUJNMKLOPABCDWERDFGTYHUJNMKLOPABCDWERDFGTYHUJNMKLOPABCDWERDFGTYHUJNMKLOPABCDWERDFGTYHUJNMKLOPABCDWERDFGTYHUJNMKLOPABCDWERDFGTYHUJNMIKLOPABCDWERDFGTYHUJNMKLOPABCDWERDFGTYHUJNMKLOPABCDWERDFGTYHUJNMKLOPABCDWERDFGTYHUJNMKLOPABCDWERDFGTYHUJNMKLOPABCDWERDFGTYHUJNMKLOPABCDWERDFGTYHUJNMKLOPABCDWERDFGTYHUJNMKLOPABCDWERDFGTYHUJNMKLOPABCDWERDFGTYHUJNMKLOPABCDWERDFGTYHUJNMKLOPABCDWERDFGTYHUJNMKLOPABCDWERDFGTYHUJNMKLOPABCDWERDFGTYHUJNMKLOPABCDWERDFGTYHUJNMKLOPABCDWERDFGTYHUJNMKLOPABCDWERDFGTYHUJNMKLOPABCDWERDFGTYHUJNMKLOPABCDWERDFGTYHUJNMKLOPABCDWERDFGTYHUJNMKLOPABCDWERDFGTYHUJNMKLOP\n",
            "I is at location 290 in the given file.\n"
          ],
          "name": "stdout"
        }
      ]
    },
    {
      "cell_type": "code",
      "metadata": {
        "colab": {
          "base_uri": "https://localhost:8080/"
        },
        "id": "RbyerxES4WMy",
        "outputId": "583e9460-bcc1-4b2b-c2fc-19b104caecf6"
      },
      "source": [
        "#ans 4\n",
        "string = \"ahmedabad, aurangabad, sicandarabad, faridabad, muradabad, daultabad, bagdad ,aurangabad, sicandarabad, faridabad, muradabad, ambadad\"\n",
        "print(\"Before: \" + string)\n",
        "string = string.replace(\"bad\",\"***\")\n",
        "print(\"After: \" + string)"
      ],
      "execution_count": 21,
      "outputs": [
        {
          "output_type": "stream",
          "text": [
            "Before: ahmedabad, aurangabad, sicandarabad, faridabad, muradabad, daultabad, bagdad ,aurangabad, sicandarabad, faridabad, muradabad, ambadad\n",
            "After: ahmeda***, auranga***, sicandara***, farida***, murada***, daulta***, bagdad ,auranga***, sicandara***, farida***, murada***, am***ad\n"
          ],
          "name": "stdout"
        }
      ]
    },
    {
      "cell_type": "code",
      "metadata": {
        "colab": {
          "base_uri": "https://localhost:8080/"
        },
        "id": "8UGtcZHT5YYs",
        "outputId": "d804425b-8e62-4bfe-d1b5-5703fddf66a2"
      },
      "source": [
        "#ans 5\n",
        "string = list(\"GUJARAT-INDIA\")\n",
        "#print from 5 to 9\n",
        "print(string[4:9])\n",
        "print(string[6:])"
      ],
      "execution_count": 27,
      "outputs": [
        {
          "output_type": "stream",
          "text": [
            "['R', 'A', 'T', '-', 'I']\n",
            "['T', '-', 'I', 'N', 'D', 'I', 'A']\n"
          ],
          "name": "stdout"
        }
      ]
    },
    {
      "cell_type": "code",
      "metadata": {
        "colab": {
          "base_uri": "https://localhost:8080/"
        },
        "id": "BwD1mYNZ5_mS",
        "outputId": "1a524df1-98a3-4cc8-c859-890f9e682458"
      },
      "source": [
        "#ans 6\n",
        "List1 = [1, 2, 3] \n",
        "List2 = [4, 5, 6]\n",
        "print(List1 + List2)\n",
        "print(List2*2)"
      ],
      "execution_count": 30,
      "outputs": [
        {
          "output_type": "stream",
          "text": [
            "[1, 2, 3, 4, 5, 6]\n",
            "[4, 5, 6, 4, 5, 6]\n"
          ],
          "name": "stdout"
        }
      ]
    },
    {
      "cell_type": "code",
      "metadata": {
        "colab": {
          "base_uri": "https://localhost:8080/"
        },
        "id": "UT1fC02N6yYl",
        "outputId": "84d5cee2-9be4-4e65-fd4b-b25ef1557155"
      },
      "source": [
        "#ans 7\n",
        "list1 = []\n",
        "for i in range(20):\n",
        "  list1.append(i+1)\n",
        "print(list1)\n",
        "s = 0\n",
        "for i in list1:\n",
        "  s+=i\n",
        "print(s)"
      ],
      "execution_count": 37,
      "outputs": [
        {
          "output_type": "stream",
          "text": [
            "[1, 2, 3, 4, 5, 6, 7, 8, 9, 10, 11, 12, 13, 14, 15, 16, 17, 18, 19, 20]\n",
            "210\n"
          ],
          "name": "stdout"
        }
      ]
    },
    {
      "cell_type": "code",
      "metadata": {
        "colab": {
          "base_uri": "https://localhost:8080/"
        },
        "id": "osbVfxgT7NjD",
        "outputId": "c395970c-83e6-4b6f-91e4-3a679949d07e"
      },
      "source": [
        "#ans 8\n",
        "dict_1 = {}\n",
        "dict_1[\"Two\"] = 2\n",
        "dict_1[\"One\"] = 1\n",
        "dict_1[\"Four\"] = 4\n",
        "dict_1[\"Three\"] = 3\n",
        "dict_1[\"Five\"] = 5\n",
        "print(f\"Original list : {dict_1}\")\n",
        "asc = sorted(dict_1, key = dict_1.get)\n",
        "desc = sorted(dict_1, key = dict_1.get , reverse = True)\n",
        "print(f\"Ascending order : {asc}\")\n",
        "print(f\"Descending order : {desc}\")"
      ],
      "execution_count": 62,
      "outputs": [
        {
          "output_type": "stream",
          "text": [
            "Original list : {'Two': 2, 'One': 1, 'Four': 4, 'Three': 3, 'Five': 5}\n",
            "Ascending order : ['One', 'Two', 'Three', 'Four', 'Five']\n",
            "Descending order : ['Five', 'Four', 'Three', 'Two', 'One']\n"
          ],
          "name": "stdout"
        }
      ]
    },
    {
      "cell_type": "code",
      "metadata": {
        "colab": {
          "base_uri": "https://localhost:8080/"
        },
        "id": "oDdEEpTi_LKc",
        "outputId": "9c5bb694-0b1c-4eab-d82c-62d4b3dd2163"
      },
      "source": [
        "#ans 9\n",
        "key = input(\"Enter a key that you want to check: \")\n",
        "if key in dict_1:\n",
        "  print(\"Exists!\")\n",
        "else:\n",
        "  print(\"Does not exist\")"
      ],
      "execution_count": 58,
      "outputs": [
        {
          "output_type": "stream",
          "text": [
            "Enter a key that you want to check: Six\n",
            "Does not exist\n"
          ],
          "name": "stdout"
        }
      ]
    },
    {
      "cell_type": "code",
      "metadata": {
        "colab": {
          "base_uri": "https://localhost:8080/"
        },
        "id": "0r8V4QsY835I",
        "outputId": "f041e2ca-c002-458e-cd80-53c57adba9b2"
      },
      "source": [
        "#ans 10\n",
        "dict_2 = {}\n",
        "dict_2[\"Six\"] = 6\n",
        "dict_2[\"Seven\"] = 7\n",
        "dict_2[\"Eight\"] = 8\n",
        "\n",
        "print(dict_1)\n",
        "print(dict_2)\n",
        "dict_3 = dict_1.copy()\n",
        "dict_3.update(dict_2)\n",
        "print(dict_3)"
      ],
      "execution_count": 64,
      "outputs": [
        {
          "output_type": "stream",
          "text": [
            "{'Two': 2, 'One': 1, 'Four': 4, 'Three': 3, 'Five': 5}\n",
            "{'Six': 6, 'Seven': 7, 'Eight': 8}\n",
            "{'Two': 2, 'One': 1, 'Four': 4, 'Three': 3, 'Five': 5, 'Six': 6, 'Seven': 7, 'Eight': 8}\n"
          ],
          "name": "stdout"
        }
      ]
    },
    {
      "cell_type": "code",
      "metadata": {
        "colab": {
          "base_uri": "https://localhost:8080/"
        },
        "id": "XPTTsX7tAPKt",
        "outputId": "b1c54e63-abfd-438e-ac85-2404e4a24179"
      },
      "source": [
        "#ans 11\n",
        "print(f\"Maximum value in dict_3 is : {max(dict_3.values())}\")\n",
        "print(f\"Minimum value in dict_3 is : {min(dict_3.values())}\")\n"
      ],
      "execution_count": 71,
      "outputs": [
        {
          "output_type": "stream",
          "text": [
            "Maximum value in dict_3 is : 8\n",
            "Minimum value in dict_3 is : 1\n"
          ],
          "name": "stdout"
        }
      ]
    },
    {
      "cell_type": "code",
      "metadata": {
        "colab": {
          "base_uri": "https://localhost:8080/"
        },
        "id": "jedfIBABAwwn",
        "outputId": "14a86af3-d848-463f-e744-3a1be2078c0b"
      },
      "source": [
        "#ans 12\n",
        "ar = []\n",
        "for i in range(100):\n",
        "  ar.append(np.random.randint(low=1, high=100))\n",
        "arr = np.array(ar)\n",
        "arr = pd.Series(arr)\n",
        "print(f\"Average of list {ar} \\n is {arr.mean()}\")"
      ],
      "execution_count": 88,
      "outputs": [
        {
          "output_type": "stream",
          "text": [
            "Average of list [48, 9, 15, 17, 45, 1, 54, 9, 75, 59, 91, 5, 7, 64, 5, 81, 66, 40, 42, 94, 53, 20, 3, 78, 16, 26, 95, 19, 77, 32, 98, 73, 64, 74, 56, 66, 8, 53, 39, 49, 65, 39, 20, 36, 89, 36, 39, 57, 29, 87, 62, 47, 85, 32, 34, 73, 81, 81, 56, 47, 65, 47, 47, 77, 63, 36, 15, 36, 21, 64, 91, 23, 2, 11, 92, 80, 36, 74, 82, 27, 70, 2, 49, 91, 42, 94, 10, 34, 94, 68, 5, 23, 34, 22, 36, 77, 49, 34, 26, 23] \n",
            " is 47.93\n"
          ],
          "name": "stdout"
        }
      ]
    },
    {
      "cell_type": "code",
      "metadata": {
        "colab": {
          "base_uri": "https://localhost:8080/"
        },
        "id": "tyXizw7-DQJ9",
        "outputId": "5f99154a-2f58-4dd7-c0cc-6fed503ba108"
      },
      "source": [
        "#ans 13\n",
        "lis_1 = [3 ,5 ,8 ,4]\n",
        "lis_2 = [1 , 2 , 6 ,7]\n",
        "s1 = pd.Series(lis_1)\n",
        "s2 = pd.Series(lis_2)\n",
        "s3 = s1.append(s2)\n",
        "print(s3)"
      ],
      "execution_count": 95,
      "outputs": [
        {
          "output_type": "stream",
          "text": [
            "0    3\n",
            "1    5\n",
            "2    8\n",
            "3    4\n",
            "0    1\n",
            "1    2\n",
            "2    6\n",
            "3    7\n",
            "dtype: int64\n"
          ],
          "name": "stdout"
        }
      ]
    },
    {
      "cell_type": "code",
      "metadata": {
        "colab": {
          "base_uri": "https://localhost:8080/"
        },
        "id": "aU93E1OCEv6y",
        "outputId": "d9a855ad-7536-4e3e-dc8a-f3daebb96ad4"
      },
      "source": [
        "#ans 14\n",
        "ar = []\n",
        "for i in range(50):\n",
        "  ar.append(np.random.randint(low=1, high=100))\n",
        "arr = np.array(ar)\n",
        "arr = pd.Series(arr)\n",
        "print(arr.values)\n",
        "print(f\"Second number is {arr.iloc[1]} and Second last number is {arr.iloc[-2]}\\n\")\n",
        "print(f\"Average of all numbers is {arr.mean()}.\\n\")\n",
        "print(f\"In reverse order:\\n{arr.iloc[::-1]}\")"
      ],
      "execution_count": 117,
      "outputs": [
        {
          "output_type": "stream",
          "text": [
            "[50 53  8 34 51 88 94 97 81 81 93 37 71 91 61  4  4 63 72 79 16 63 33 42\n",
            " 33 29 86 35 13  5 47 22 76 54 75 18  6 45 38 90 55 58 82  9  6 49 34 39\n",
            " 65 93]\n",
            "Second number is 53 and Second last number is 65\n",
            "\n",
            "Average of all numbers is 50.56.\n",
            "\n",
            "In reverse order:\n",
            "49    93\n",
            "48    65\n",
            "47    39\n",
            "46    34\n",
            "45    49\n",
            "44     6\n",
            "43     9\n",
            "42    82\n",
            "41    58\n",
            "40    55\n",
            "39    90\n",
            "38    38\n",
            "37    45\n",
            "36     6\n",
            "35    18\n",
            "34    75\n",
            "33    54\n",
            "32    76\n",
            "31    22\n",
            "30    47\n",
            "29     5\n",
            "28    13\n",
            "27    35\n",
            "26    86\n",
            "25    29\n",
            "24    33\n",
            "23    42\n",
            "22    33\n",
            "21    63\n",
            "20    16\n",
            "19    79\n",
            "18    72\n",
            "17    63\n",
            "16     4\n",
            "15     4\n",
            "14    61\n",
            "13    91\n",
            "12    71\n",
            "11    37\n",
            "10    93\n",
            "9     81\n",
            "8     81\n",
            "7     97\n",
            "6     94\n",
            "5     88\n",
            "4     51\n",
            "3     34\n",
            "2      8\n",
            "1     53\n",
            "0     50\n",
            "dtype: int64\n"
          ],
          "name": "stdout"
        }
      ]
    },
    {
      "cell_type": "code",
      "metadata": {
        "colab": {
          "base_uri": "https://localhost:8080/"
        },
        "id": "-rqUqZtyHVo1",
        "outputId": "cfd5b490-173b-4fc8-e29c-0a63113f108e"
      },
      "source": [
        "#ans 15\n",
        "lis_3 = [1,2,3,4,5,6,7,8,9,10]\n",
        "\n",
        "S2 = pd.Series(lis_3)\n",
        "print(type(S2) , S2)"
      ],
      "execution_count": 120,
      "outputs": [
        {
          "output_type": "stream",
          "text": [
            "<class 'pandas.core.series.Series'> 0     1\n",
            "1     2\n",
            "2     3\n",
            "3     4\n",
            "4     5\n",
            "5     6\n",
            "6     7\n",
            "7     8\n",
            "8     9\n",
            "9    10\n",
            "dtype: int64\n"
          ],
          "name": "stdout"
        }
      ]
    },
    {
      "cell_type": "code",
      "metadata": {
        "colab": {
          "base_uri": "https://localhost:8080/"
        },
        "id": "uecU7PrPHu90",
        "outputId": "94ada842-a028-4ed3-8589-562d6b4f1fd4"
      },
      "source": [
        "#ans 16\n",
        "rint = []\n",
        "for i in range(20):\n",
        "  rint.append(np.random.randint(low=1, high=100))\n",
        "nparr = np.array(rint)\n",
        "S3 = pd.Series(nparr)\n",
        "print(S3)"
      ],
      "execution_count": 126,
      "outputs": [
        {
          "output_type": "stream",
          "text": [
            "0     34\n",
            "1     30\n",
            "2     61\n",
            "3      9\n",
            "4     26\n",
            "5     28\n",
            "6     13\n",
            "7     27\n",
            "8     46\n",
            "9     62\n",
            "10    52\n",
            "11    72\n",
            "12    37\n",
            "13    38\n",
            "14    70\n",
            "15    82\n",
            "16    43\n",
            "17    39\n",
            "18     7\n",
            "19    37\n",
            "dtype: int64\n"
          ],
          "name": "stdout"
        }
      ]
    },
    {
      "cell_type": "code",
      "metadata": {
        "colab": {
          "base_uri": "https://localhost:8080/"
        },
        "id": "QX5HYclbIkRB",
        "outputId": "e964a582-0644-4b89-b987-fd250cae653c"
      },
      "source": [
        "#ans 17\n",
        "S3.value_counts()"
      ],
      "execution_count": 128,
      "outputs": [
        {
          "output_type": "execute_result",
          "data": {
            "text/plain": [
              "37    2\n",
              "70    1\n",
              "13    1\n",
              "34    1\n",
              "38    1\n",
              "39    1\n",
              "72    1\n",
              "9     1\n",
              "43    1\n",
              "46    1\n",
              "30    1\n",
              "82    1\n",
              "52    1\n",
              "62    1\n",
              "26    1\n",
              "27    1\n",
              "28    1\n",
              "61    1\n",
              "7     1\n",
              "dtype: int64"
            ]
          },
          "metadata": {
            "tags": []
          },
          "execution_count": 128
        }
      ]
    },
    {
      "cell_type": "code",
      "metadata": {
        "colab": {
          "base_uri": "https://localhost:8080/"
        },
        "id": "Uu7uCQZQI8ax",
        "outputId": "bfcdedbb-956c-4013-8dbd-07bba8c3dc3d"
      },
      "source": [
        "#ans 18\n",
        "lis1 = [1,2,3]\n",
        "lis2 = [1,2,4]\n",
        "s1 = pd.Series(lis1)\n",
        "s2 = pd.Series(lis2)\n",
        "print(f\"Add :\\n{s1+s2}\")\n",
        "print(f\"Subtract :\\n{s1-s2}\")\n",
        "print(f\"Multiply :\\n{s1*s2}\")\n",
        "print(f\"Divide :\\n{s1/s2}\")\n"
      ],
      "execution_count": 133,
      "outputs": [
        {
          "output_type": "stream",
          "text": [
            "Add :\n",
            "0    2\n",
            "1    4\n",
            "2    7\n",
            "dtype: int64\n",
            "Subtract :\n",
            "0    0\n",
            "1    0\n",
            "2   -1\n",
            "dtype: int64\n",
            "Multiply :\n",
            "0     1\n",
            "1     4\n",
            "2    12\n",
            "dtype: int64\n",
            "Divide :\n",
            "0    1.00\n",
            "1    1.00\n",
            "2    0.75\n",
            "dtype: float64\n"
          ],
          "name": "stdout"
        }
      ]
    },
    {
      "cell_type": "code",
      "metadata": {
        "colab": {
          "base_uri": "https://localhost:8080/",
          "height": 173
        },
        "id": "YMbIc_ZyJsnD",
        "outputId": "a0c36b51-19c5-46e4-fc8a-1aa10b6d4095"
      },
      "source": [
        "#ans 19\n",
        "ex_data = {'Column1': [1, 2 , 3 , 4], 'Column2': [3.4, 4.0 ,9.4 ,6.9]}\n",
        "df = pd.DataFrame(data = ex_data)\n",
        "df.head()"
      ],
      "execution_count": 139,
      "outputs": [
        {
          "output_type": "execute_result",
          "data": {
            "text/html": [
              "<div>\n",
              "<style scoped>\n",
              "    .dataframe tbody tr th:only-of-type {\n",
              "        vertical-align: middle;\n",
              "    }\n",
              "\n",
              "    .dataframe tbody tr th {\n",
              "        vertical-align: top;\n",
              "    }\n",
              "\n",
              "    .dataframe thead th {\n",
              "        text-align: right;\n",
              "    }\n",
              "</style>\n",
              "<table border=\"1\" class=\"dataframe\">\n",
              "  <thead>\n",
              "    <tr style=\"text-align: right;\">\n",
              "      <th></th>\n",
              "      <th>Column1</th>\n",
              "      <th>Column2</th>\n",
              "    </tr>\n",
              "  </thead>\n",
              "  <tbody>\n",
              "    <tr>\n",
              "      <th>0</th>\n",
              "      <td>1</td>\n",
              "      <td>3.4</td>\n",
              "    </tr>\n",
              "    <tr>\n",
              "      <th>1</th>\n",
              "      <td>2</td>\n",
              "      <td>4.0</td>\n",
              "    </tr>\n",
              "    <tr>\n",
              "      <th>2</th>\n",
              "      <td>3</td>\n",
              "      <td>9.4</td>\n",
              "    </tr>\n",
              "    <tr>\n",
              "      <th>3</th>\n",
              "      <td>4</td>\n",
              "      <td>6.9</td>\n",
              "    </tr>\n",
              "  </tbody>\n",
              "</table>\n",
              "</div>"
            ],
            "text/plain": [
              "   Column1  Column2\n",
              "0        1      3.4\n",
              "1        2      4.0\n",
              "2        3      9.4\n",
              "3        4      6.9"
            ]
          },
          "metadata": {
            "tags": []
          },
          "execution_count": 139
        }
      ]
    },
    {
      "cell_type": "code",
      "metadata": {
        "colab": {
          "base_uri": "https://localhost:8080/"
        },
        "id": "pI1NpOLTKaL0",
        "outputId": "673ba819-36de-43b4-9d2c-d62ff54576e2"
      },
      "source": [
        "#ans 20\n",
        "print(f\"Number of rows in dataframe df is {df.shape[0]}\")\n",
        "print(f\"Number of columns in dataframe df is {df.shape[1]}\")"
      ],
      "execution_count": 149,
      "outputs": [
        {
          "output_type": "stream",
          "text": [
            "Number of rows in dataframe df is 4\n",
            "Number of columns in dataframe df is 2\n"
          ],
          "name": "stdout"
        }
      ]
    },
    {
      "cell_type": "code",
      "metadata": {
        "colab": {
          "base_uri": "https://localhost:8080/"
        },
        "id": "ey3jugAeLOMl",
        "outputId": "38239513-bd1c-48c6-f67b-fb9b9933a056"
      },
      "source": [
        "#ans 21\n",
        "giv_data = {'A': [1.0 ,2.0, np.nan], 'B': [5.0, np.nan , np.nan] , 'C' : [1, 2, 3] , 'D': [4.0, 5.0 ,np.nan]}\n",
        "df1 = pd.DataFrame(data = giv_data)\n",
        "df2 = df1.copy()\n",
        "df3 = df1.copy()\n",
        "df4 = df1.copy()\n",
        "\n",
        "#a\n",
        "print(df1.isna(),\"\\n\")\n",
        "#b\n",
        "\n",
        "df2 = df2.fillna(0)\n",
        "print(df2.head(),\"\\n\")\n",
        "#c\n",
        "df1['A'] = df1['A'].fillna(df1['A'].mean())\n",
        "df1['B'] = df1['B'].fillna(df1['B'].mean())\n",
        "df1['C'] = df1['C'].fillna(df1['C'].mean())\n",
        "df1['D'] = df1['D'].fillna(df1['D'].mean())\n",
        "\n",
        "print(df1.head(),\"\\n\")\n",
        "\n",
        "#d\n",
        "df3 = df3.dropna()\n",
        "print(df3.head(),\"\\n\")\n",
        "#e\n",
        "print(f\"\\nAverage of column A is : {df4['A'].mean()}\")\n"
      ],
      "execution_count": 189,
      "outputs": [
        {
          "output_type": "stream",
          "text": [
            "       A      B      C      D\n",
            "0  False  False  False  False\n",
            "1  False   True  False  False\n",
            "2   True   True  False   True \n",
            "\n",
            "     A    B  C    D\n",
            "0  1.0  5.0  1  4.0\n",
            "1  2.0  0.0  2  5.0\n",
            "2  0.0  0.0  3  0.0 \n",
            "\n",
            "     A    B  C    D\n",
            "0  1.0  5.0  1  4.0\n",
            "1  2.0  5.0  2  5.0\n",
            "2  1.5  5.0  3  4.5 \n",
            "\n",
            "     A    B  C    D\n",
            "0  1.0  5.0  1  4.0 \n",
            "\n",
            "\n",
            "Average of column A is : 1.5\n"
          ],
          "name": "stdout"
        }
      ]
    },
    {
      "cell_type": "code",
      "metadata": {
        "colab": {
          "base_uri": "https://localhost:8080/",
          "height": 312
        },
        "id": "yUW1J-cnRzMC",
        "outputId": "dbf166f3-8b60-4a04-f0c3-99d4f6f89bf0"
      },
      "source": [
        "#ans 22\n",
        "X = [1, 2, 4, 6, 8]\n",
        "Y = [2, 3, 5, 7, 8]\n",
        "Sx = pd.Series(X)\n",
        "Sy = pd.Series(Y)\n",
        "Sx.plot.line(legend = True , label = \"X\" ,linewidth = 3 , xlabel = \"X label\" , color = \"green\")\n",
        "Sy.plot.line(label = \"Y\" ,title = \"Line plot of X , Y\" , ylabel = \"Y label\" ,legend = True , linewidth = 3 , color = \"red\")\n"
      ],
      "execution_count": 236,
      "outputs": [
        {
          "output_type": "execute_result",
          "data": {
            "text/plain": [
              "<matplotlib.axes._subplots.AxesSubplot at 0x7f9dd4a34c90>"
            ]
          },
          "metadata": {
            "tags": []
          },
          "execution_count": 236
        },
        {
          "output_type": "display_data",
          "data": {
            "image/png": "[encoded data removed]",
            "text/plain": [
              "<Figure size 432x288 with 1 Axes>"
            ]
          },
          "metadata": {
            "tags": [],
            "needs_background": "light"
          }
        }
      ]
    },
    {
      "cell_type": "code",
      "metadata": {
        "id": "UfFZP1zSslBt"
      },
      "source": [
        ""
      ],
      "execution_count": null,
      "outputs": []
    }
  ]
}